{
 "cells": [
  {
   "metadata": {},
   "cell_type": "markdown",
   "source": [
    "### What problem can be framed as MDP?\n",
    "\n",
    "The Markov property states that the future state of a process depends only on the current state and not on how that state was reached. In other words, the future is conditionally independent of the past, given the present. This property simplifies the analysis of stochastic processes by reducing the dependence on historical data, focusing only on the current state to predict the future. \n",
    "<br> Markov matrix (all entries are positive and each row sums up to one) is nothing but mathematical expression of Markov property in that \"summing upto one\" implies complete determination of transition from preceding one to current one.\n",
    "<br> If one model financial market using MDP, he implicitly assumes the financial market is very efficient. In another word, any the impact to market will be fully digested in one time step. "
   ],
   "id": "e1a164ad1bf26c24"
  },
  {
   "metadata": {},
   "cell_type": "code",
   "outputs": [],
   "execution_count": null,
   "source": "",
   "id": "44767d21a591bbe1"
  }
 ],
 "metadata": {
  "kernelspec": {
   "display_name": "Python 3",
   "language": "python",
   "name": "python3"
  },
  "language_info": {
   "codemirror_mode": {
    "name": "ipython",
    "version": 2
   },
   "file_extension": ".py",
   "mimetype": "text/x-python",
   "name": "python",
   "nbconvert_exporter": "python",
   "pygments_lexer": "ipython2",
   "version": "2.7.6"
  }
 },
 "nbformat": 4,
 "nbformat_minor": 5
}
