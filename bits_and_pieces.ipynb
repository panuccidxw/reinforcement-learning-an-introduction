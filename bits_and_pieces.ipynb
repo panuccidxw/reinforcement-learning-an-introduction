{
 "cells": [
  {
   "cell_type": "code",
   "id": "initial_id",
   "metadata": {
    "collapsed": true,
    "ExecuteTime": {
     "end_time": "2024-05-29T06:59:40.414025Z",
     "start_time": "2024-05-29T06:59:40.303639Z"
    }
   },
   "source": "import numpy as np",
   "outputs": [],
   "execution_count": 1
  },
  {
   "metadata": {
    "ExecuteTime": {
     "end_time": "2024-05-29T07:15:00.982996Z",
     "start_time": "2024-05-29T07:15:00.974138Z"
    }
   },
   "cell_type": "code",
   "source": [
    "# np.ravel_multi_index(): \n",
    "# what is the index in flattened space defined by dims of your interested high dimensional index?\n",
    "\n",
    "multi_index = (np.array([3, 2, 1]), np.array([4, 1, 7]))\n",
    "dims = (4, 8)\n",
    "flat_indices = np.ravel_multi_index(multi_index, dims, mode='clip', order='C')\n",
    "# (3,4) -> 3*8+4=28; (2,1) -> 2*8+1=17; (1,7) -> 1*8+7=15\n",
    "print(flat_indices)"
   ],
   "id": "55a32b00995f6040",
   "outputs": [
    {
     "name": "stdout",
     "output_type": "stream",
     "text": [
      "[28 17 15]\n"
     ]
    }
   ],
   "execution_count": 4
  },
  {
   "metadata": {
    "ExecuteTime": {
     "end_time": "2024-05-31T05:54:51.788778Z",
     "start_time": "2024-05-31T05:54:51.777990Z"
    }
   },
   "cell_type": "code",
   "source": [
    "# np.flipud(): a function flips an array in the up/down direction. This means it reverses the order of the rows of a given array, effectively flipping the array upside down.\n",
    "\n",
    "array_2d = np.array([[1, 2, 3],\n",
    "                     [4, 5, 6],\n",
    "                     [7, 8, 9]])\n",
    "flipped_array_2d = np.flipud(array_2d)\n",
    "\n",
    "print(\"Original array:\")\n",
    "print(array_2d)\n",
    "\n",
    "print(\"\\nFlipped array:\")\n",
    "print(flipped_array_2d)"
   ],
   "id": "58bcc8049eb36316",
   "outputs": [
    {
     "name": "stdout",
     "output_type": "stream",
     "text": [
      "Original array:\n",
      "[[1 2 3]\n",
      " [4 5 6]\n",
      " [7 8 9]]\n",
      "\n",
      "Flipped array:\n",
      "[[7 8 9]\n",
      " [4 5 6]\n",
      " [1 2 3]]\n"
     ]
    }
   ],
   "execution_count": 9
  },
  {
   "metadata": {
    "ExecuteTime": {
     "end_time": "2024-05-31T05:54:52.210423Z",
     "start_time": "2024-05-31T05:54:52.206956Z"
    }
   },
   "cell_type": "code",
   "source": [
    "array_1d = np.array([1, 2, 3, 4, 5])\n",
    "flipped_array_1d = np.flipud(array_1d)\n",
    "\n",
    "print(\"Original array:\")\n",
    "print(array_1d)\n",
    "\n",
    "print(\"\\nFlipped array:\")\n",
    "print(flipped_array_1d)"
   ],
   "id": "d0604b88d0e8d66f",
   "outputs": [
    {
     "name": "stdout",
     "output_type": "stream",
     "text": [
      "Original array:\n",
      "[1 2 3 4 5]\n",
      "\n",
      "Flipped array:\n",
      "[5 4 3 2 1]\n"
     ]
    }
   ],
   "execution_count": 10
  },
  {
   "metadata": {
    "ExecuteTime": {
     "end_time": "2024-05-31T05:54:52.611951Z",
     "start_time": "2024-05-31T05:54:52.608352Z"
    }
   },
   "cell_type": "code",
   "source": [
    "array_3d = np.array([[[1, 2, 3],\n",
    "                      [4, 5, 6]],\n",
    "                     [[7, 8, 9],\n",
    "                      [10, 11, 12]]])\n",
    "flipped_array_3d = np.flipud(array_3d)\n",
    "\n",
    "print(\"Original array:\")\n",
    "print(array_3d)\n",
    "\n",
    "print(\"\\nFlipped array:\")\n",
    "print(flipped_array_3d)"
   ],
   "id": "96076ebd42d22b4c",
   "outputs": [
    {
     "name": "stdout",
     "output_type": "stream",
     "text": [
      "Original array:\n",
      "[[[ 1  2  3]\n",
      "  [ 4  5  6]]\n",
      "\n",
      " [[ 7  8  9]\n",
      "  [10 11 12]]]\n",
      "\n",
      "Flipped array:\n",
      "[[[ 7  8  9]\n",
      "  [10 11 12]]\n",
      "\n",
      " [[ 1  2  3]\n",
      "  [ 4  5  6]]]\n"
     ]
    }
   ],
   "execution_count": 11
  }
 ],
 "metadata": {
  "kernelspec": {
   "display_name": "Python 3",
   "language": "python",
   "name": "python3"
  },
  "language_info": {
   "codemirror_mode": {
    "name": "ipython",
    "version": 2
   },
   "file_extension": ".py",
   "mimetype": "text/x-python",
   "name": "python",
   "nbconvert_exporter": "python",
   "pygments_lexer": "ipython2",
   "version": "2.7.6"
  }
 },
 "nbformat": 4,
 "nbformat_minor": 5
}
