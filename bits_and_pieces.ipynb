{
 "cells": [
  {
   "cell_type": "code",
   "id": "initial_id",
   "metadata": {
    "collapsed": true,
    "ExecuteTime": {
     "end_time": "2024-05-29T06:59:40.414025Z",
     "start_time": "2024-05-29T06:59:40.303639Z"
    }
   },
   "source": "import numpy as np",
   "outputs": [],
   "execution_count": 1
  },
  {
   "metadata": {
    "ExecuteTime": {
     "end_time": "2024-05-29T07:15:00.982996Z",
     "start_time": "2024-05-29T07:15:00.974138Z"
    }
   },
   "cell_type": "code",
   "source": [
    "# ravel_multi_index example: \n",
    "# what is the index in flattened space defined by dims of your interested high dimensional index?\n",
    "\n",
    "multi_index = (np.array([3, 2, 1]), np.array([4, 1, 7]))\n",
    "dims = (4, 8)\n",
    "flat_indices = np.ravel_multi_index(multi_index, dims, mode='clip', order='C')\n",
    "# (3,4) -> 3*8+4=28; (2,1) -> 2*8+1=17; (1,7) -> 1*8+7=15\n",
    "print(flat_indices)"
   ],
   "id": "55a32b00995f6040",
   "outputs": [
    {
     "name": "stdout",
     "output_type": "stream",
     "text": [
      "[28 17 15]\n"
     ]
    }
   ],
   "execution_count": 4
  },
  {
   "metadata": {},
   "cell_type": "code",
   "outputs": [],
   "execution_count": null,
   "source": "",
   "id": "58bcc8049eb36316"
  }
 ],
 "metadata": {
  "kernelspec": {
   "display_name": "Python 3",
   "language": "python",
   "name": "python3"
  },
  "language_info": {
   "codemirror_mode": {
    "name": "ipython",
    "version": 2
   },
   "file_extension": ".py",
   "mimetype": "text/x-python",
   "name": "python",
   "nbconvert_exporter": "python",
   "pygments_lexer": "ipython2",
   "version": "2.7.6"
  }
 },
 "nbformat": 4,
 "nbformat_minor": 5
}
